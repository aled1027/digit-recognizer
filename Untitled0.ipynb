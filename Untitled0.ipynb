{
 "metadata": {
  "name": ""
 },
 "nbformat": 3,
 "nbformat_minor": 0,
 "worksheets": [
  {
   "cells": [
    {
     "cell_type": "code",
     "collapsed": false,
     "input": [
      "# https://blog.safaribooksonline.com/2013/12/12/start-ipython-notebook/\n",
      "import csv\n",
      "import operator\n",
      "from utils import read_data, make_image, doWorkNumpy\n",
      "import matplotlib.pyplot as plt\n",
      "from matplotlib import cm\n",
      "import numpy as np\n",
      "from sklearn import decomposition\n",
      "\n"
     ],
     "language": "python",
     "metadata": {},
     "outputs": [],
     "prompt_number": 5
    },
    {
     "cell_type": "code",
     "collapsed": false,
     "input": [
      "def read_data(file_path, header=True, test=False, quick=False):\n",
      "     data = []\n",
      "     labels = []\n",
      "     csv_reader = csv.reader(open(file_path, \"r\"), delimiter=\",\")\n",
      "     index = 0\n",
      "     for row in csv_reader:\n",
      "         index = index + 1\n",
      "         if header and index == 1:\n",
      "             continue\n",
      "         if not test:\n",
      "             labels.append(int(row[0]))\n",
      "             row = row[1:]\n",
      "         data.append(np.array(np.int64(row)))\n",
      " \n",
      "     # data::list<numpy.ndarray<numpy.int64>>\n",
      "     print \"data size \" , len(data)\n",
      "     return (data, labels)"
     ],
     "language": "python",
     "metadata": {},
     "outputs": [],
     "prompt_number": 6
    },
    {
     "cell_type": "code",
     "collapsed": false,
     "input": [
      "train, target = read_data(\"data/train.csv\")"
     ],
     "language": "python",
     "metadata": {},
     "outputs": [
      {
       "output_type": "stream",
       "stream": "stdout",
       "text": [
        "data size  42000\n"
       ]
      }
     ],
     "prompt_number": 8
    },
    {
     "cell_type": "code",
     "collapsed": false,
     "input": [
      "pca_fits = []\n",
      "pca_fits.append(decomposition.PCA(n_components=100).fit(train))"
     ],
     "language": "python",
     "metadata": {},
     "outputs": [],
     "prompt_number": 22
    },
    {
     "cell_type": "code",
     "collapsed": false,
     "input": [
      "transformed = pca_fits[0].transform(train[0])\n",
      "print transformed"
     ],
     "language": "python",
     "metadata": {},
     "outputs": [
      {
       "output_type": "stream",
       "stream": "stdout",
       "text": [
        "[[ 661.59577975  699.31132821 -183.28203965  120.61139445  -81.08181052\n",
        "   489.46188551 -683.47083797   85.55938661 -348.5480522   202.97854522\n",
        "   364.55994931  -21.26575592  404.44144851  -97.05254548   61.83993555\n",
        "   -86.78002717   17.65814358 -285.48469649   18.82730277 -207.64273128\n",
        "    44.24360034 -221.89436971   57.22745918 -148.67496175   14.34358893\n",
        "    41.55603106 -333.7236588   208.97888078   59.81363057  -84.55446472\n",
        "     6.9429306     5.29995065  195.70933579  -53.22922851   -6.88959872\n",
        "  -146.88658286  -49.40662266   88.06398024 -161.58921015  140.78761685\n",
        "  -104.95905976   20.03106065  -41.56194454   36.52874077 -206.18563279\n",
        "    33.40916289  -54.1183777    56.29531927  -75.36995223   69.093593\n",
        "   -73.31239808  118.05933676  -97.32797816   29.58991099  -44.65665764\n",
        "    22.74704298  112.69596798  -71.56931773   14.74515099    3.70484637\n",
        "     2.11584606   42.94061548  -43.47042456   96.32720752  -36.42238808\n",
        "  -118.59834656   17.72352553   52.93036054  -52.53328273  -20.0622353\n",
        "   -88.89995447   13.69381207   15.05298349   53.99192507 -105.55083166\n",
        "    50.30884871    7.74394518   17.30071895   36.47190809  -55.0678419\n",
        "   -63.5349144    56.25715649   26.98550048   36.06975952    9.05306937\n",
        "     5.79513256   39.65638143  -38.83135751   -1.44954749  -17.38337774\n",
        "    54.00122505  -80.13087752   10.8551289   -60.89510797   13.61945598\n",
        "    -3.01334206   30.24877235  -30.67593313   61.91200267   -3.19584159]]\n"
       ]
      }
     ],
     "prompt_number": 23
    },
    {
     "cell_type": "code",
     "collapsed": false,
     "input": [
      " def make_image(ndarr, path):\n",
      "     from PIL import Image\n",
      "     # make_image(test[1], \"1.jpg\")\n",
      "     new_image = Image.new(\"L\", (28,28))\n",
      "     new_data = new_image.load()\n",
      "     for x in range(28):\n",
      "         for y in range(28):\n",
      "             new_data[x,y] = ndarr[x + y*28]\n",
      "     new_image.save(path)"
     ],
     "language": "python",
     "metadata": {},
     "outputs": [],
     "prompt_number": 28
    },
    {
     "cell_type": "code",
     "collapsed": false,
     "input": [
      "make_image(transformed[0], \"tranformed.jpg\")"
     ],
     "language": "python",
     "metadata": {},
     "outputs": [
      {
       "ename": "IndexError",
       "evalue": "index out of bounds",
       "output_type": "pyerr",
       "traceback": [
        "\u001b[0;31m---------------------------------------------------------------------------\u001b[0m\n\u001b[0;31mIndexError\u001b[0m                                Traceback (most recent call last)",
        "\u001b[0;32m<ipython-input-31-c134864693cd>\u001b[0m in \u001b[0;36m<module>\u001b[0;34m()\u001b[0m\n\u001b[0;32m----> 1\u001b[0;31m \u001b[0mmake_image\u001b[0m\u001b[0;34m(\u001b[0m\u001b[0mtransformed\u001b[0m\u001b[0;34m[\u001b[0m\u001b[0;36m0\u001b[0m\u001b[0;34m]\u001b[0m\u001b[0;34m,\u001b[0m \u001b[0;34m\"tranformed.jpg\"\u001b[0m\u001b[0;34m)\u001b[0m\u001b[0;34m\u001b[0m\u001b[0m\n\u001b[0m",
        "\u001b[0;32m<ipython-input-28-19e168a84e99>\u001b[0m in \u001b[0;36mmake_image\u001b[0;34m(ndarr, path)\u001b[0m\n\u001b[1;32m      6\u001b[0m     \u001b[0;32mfor\u001b[0m \u001b[0mx\u001b[0m \u001b[0;32min\u001b[0m \u001b[0mrange\u001b[0m\u001b[0;34m(\u001b[0m\u001b[0;36m28\u001b[0m\u001b[0;34m)\u001b[0m\u001b[0;34m:\u001b[0m\u001b[0;34m\u001b[0m\u001b[0m\n\u001b[1;32m      7\u001b[0m         \u001b[0;32mfor\u001b[0m \u001b[0my\u001b[0m \u001b[0;32min\u001b[0m \u001b[0mrange\u001b[0m\u001b[0;34m(\u001b[0m\u001b[0;36m28\u001b[0m\u001b[0;34m)\u001b[0m\u001b[0;34m:\u001b[0m\u001b[0;34m\u001b[0m\u001b[0m\n\u001b[0;32m----> 8\u001b[0;31m             \u001b[0mnew_data\u001b[0m\u001b[0;34m[\u001b[0m\u001b[0mx\u001b[0m\u001b[0;34m,\u001b[0m\u001b[0my\u001b[0m\u001b[0;34m]\u001b[0m \u001b[0;34m=\u001b[0m \u001b[0mndarr\u001b[0m\u001b[0;34m[\u001b[0m\u001b[0mx\u001b[0m \u001b[0;34m+\u001b[0m \u001b[0my\u001b[0m\u001b[0;34m*\u001b[0m\u001b[0;36m28\u001b[0m\u001b[0;34m]\u001b[0m\u001b[0;34m\u001b[0m\u001b[0m\n\u001b[0m\u001b[1;32m      9\u001b[0m     \u001b[0mnew_image\u001b[0m\u001b[0;34m.\u001b[0m\u001b[0msave\u001b[0m\u001b[0;34m(\u001b[0m\u001b[0mpath\u001b[0m\u001b[0;34m)\u001b[0m\u001b[0;34m\u001b[0m\u001b[0m\n",
        "\u001b[0;31mIndexError\u001b[0m: index out of bounds"
       ]
      }
     ],
     "prompt_number": 31
    },
    {
     "cell_type": "code",
     "collapsed": false,
     "input": [],
     "language": "python",
     "metadata": {},
     "outputs": []
    }
   ],
   "metadata": {}
  }
 ]
}